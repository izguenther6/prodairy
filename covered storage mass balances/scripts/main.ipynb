{
 "cells": [
  {
   "cell_type": "code",
   "execution_count": 1,
   "metadata": {},
   "outputs": [],
   "source": [
    "#import statements\n",
    "import pandas as pd\n",
    "import numpy as np\n",
    "import funcs\n",
    "%load_ext autoreload\n",
    "%autoreload 2"
   ]
  },
  {
   "cell_type": "code",
   "execution_count": 2,
   "metadata": {},
   "outputs": [],
   "source": [
    "#import climate data and covered storage area\n",
    "#NOTE: kingferry and aurora have same climate data\n",
    "castile_raw = pd.read_excel('../data/climate data.xlsx', sheet_name = 'castile')\n",
    "kingferry_raw = pd.read_excel('../data/climate data.xlsx', sheet_name = 'kingferry')\n",
    "aurora_raw = pd.read_excel('../data/climate data.xlsx', sheet_name = 'aurora')\n",
    "fleming_raw = pd.read_excel('../data/climate data.xlsx', sheet_name = 'fleming')\n",
    "leroy_raw = pd.read_excel('../data/climate data.xlsx', sheet_name = 'leroy')\n",
    "castile_area = 118104 #ft^2\n",
    "kingferry_area = 50400 + 77875 #ft^2, two storages, new + old\n",
    "aurora_area = 108765 #ft^2\n",
    "fleming_area = 130410 #ft^2\n",
    "leroy_area = 58166 + 54900 #ft^2, two storages, new + old\n",
    "\n",
    "#unit conversion using function in funcs.py\n",
    "castile_raw= funcs.convert_units(castile_raw)\n",
    "kingferry_raw= funcs.convert_units(kingferry_raw)\n",
    "aurora_raw= funcs.convert_units(aurora_raw)\n",
    "fleming_raw= funcs.convert_units(fleming_raw)\n",
    "leroy_raw= funcs.convert_units(leroy_raw)"
   ]
  },
  {
   "cell_type": "code",
   "execution_count": 3,
   "metadata": {},
   "outputs": [],
   "source": [
    "#mass balances and economic calculation using function in funcs.py\n",
    "castile_mb = funcs.mass_bal(castile_raw, castile_area)\n",
    "kingferry_mb = funcs.mass_bal(kingferry_raw, kingferry_area)\n",
    "aurora_mb = funcs.mass_bal(aurora_raw, aurora_area)\n",
    "fleming_mb = funcs.mass_bal(fleming_raw, fleming_area)\n",
    "leroy_mb = funcs.mass_bal(leroy_raw, leroy_area)\n"
   ]
  },
  {
   "cell_type": "code",
   "execution_count": 4,
   "metadata": {},
   "outputs": [],
   "source": [
    "#save mass balances in excel\n",
    "with pd.ExcelWriter(\"../data/240415 mass balances, ijg.xlsx\") as writer:\n",
    "    castile_mb.to_excel(writer, sheet_name='castile')\n",
    "    kingferry_mb.to_excel(writer, sheet_name='kingferry')\n",
    "    aurora_mb.to_excel(writer, sheet_name='aurora')\n",
    "    fleming_mb.to_excel(writer, sheet_name='fleming')\n",
    "    leroy_mb.to_excel(writer, sheet_name='leroy')"
   ]
  }
 ],
 "metadata": {
  "kernelspec": {
   "display_name": "base",
   "language": "python",
   "name": "python3"
  },
  "language_info": {
   "codemirror_mode": {
    "name": "ipython",
    "version": 3
   },
   "file_extension": ".py",
   "mimetype": "text/x-python",
   "name": "python",
   "nbconvert_exporter": "python",
   "pygments_lexer": "ipython3",
   "version": "3.9.13"
  }
 },
 "nbformat": 4,
 "nbformat_minor": 2
}
