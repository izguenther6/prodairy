{
 "cells": [
  {
   "cell_type": "code",
   "execution_count": 48,
   "metadata": {},
   "outputs": [
    {
     "name": "stdout",
     "output_type": "stream",
     "text": [
      "The autoreload extension is already loaded. To reload it, use:\n",
      "  %reload_ext autoreload\n"
     ]
    }
   ],
   "source": [
    "#import statements, import data\n",
    "import pandas as pd\n",
    "import numpy as np\n",
    "import funcs\n",
    "%load_ext autoreload\n",
    "%autoreload 2\n",
    "\n",
    "castile_raw = pd.read_excel('../data/climate data.xlsx', sheet_name = 'castile')\n",
    "castile_area = 118104 #ft^2\n",
    "castile_raw= funcs.convert_units(castile_raw) #change units\n",
    "\n",
    "dftest = pd.read_excel('../data/climate data.xlsx', sheet_name = 'castile')"
   ]
  },
  {
   "cell_type": "code",
   "execution_count": 94,
   "metadata": {},
   "outputs": [],
   "source": [
    "castile_mb = funcs.mass_bal(castile_raw, castile_area)\n",
    "\n"
   ]
  },
  {
   "cell_type": "code",
   "execution_count": 95,
   "metadata": {},
   "outputs": [],
   "source": [
    "castile_mb.to_excel('../data/240412_castile.xlsx')"
   ]
  }
 ],
 "metadata": {
  "kernelspec": {
   "display_name": "base",
   "language": "python",
   "name": "python3"
  },
  "language_info": {
   "codemirror_mode": {
    "name": "ipython",
    "version": 3
   },
   "file_extension": ".py",
   "mimetype": "text/x-python",
   "name": "python",
   "nbconvert_exporter": "python",
   "pygments_lexer": "ipython3",
   "version": "3.9.13"
  }
 },
 "nbformat": 4,
 "nbformat_minor": 2
}
