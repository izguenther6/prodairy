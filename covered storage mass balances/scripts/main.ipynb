{
 "cells": [
  {
   "cell_type": "code",
   "execution_count": 6,
   "metadata": {},
   "outputs": [
    {
     "name": "stdout",
     "output_type": "stream",
     "text": [
      "The autoreload extension is already loaded. To reload it, use:\n",
      "  %reload_ext autoreload\n"
     ]
    }
   ],
   "source": [
    "#import statements, import data\n",
    "import pandas as pd\n",
    "import numpy as np\n",
    "import funcs\n",
    "%load_ext autoreload\n",
    "%autoreload 2\n",
    "\n",
    "castile_raw = pd.read_excel('../data/climate data.xlsx', sheet_name = 'castile')\n",
    "castile_area = 118104 #ft^2\n",
    "castile_raw = castile_raw.replace(to_replace='T', value = 0) #get rid of trace values from NOAA data\n",
    "castile_raw= funcs.convert_units(castile_raw) #change units\n",
    "\n",
    "dftest = pd.read_excel('../data/climate data.xlsx', sheet_name = 'castile')"
   ]
  },
  {
   "cell_type": "code",
   "execution_count": 17,
   "metadata": {},
   "outputs": [],
   "source": [
    "castile_mb = funcs.mass_bal(castile_raw, castile_area)"
   ]
  },
  {
   "cell_type": "code",
   "execution_count": 19,
   "metadata": {},
   "outputs": [
    {
     "name": "stdout",
     "output_type": "stream",
     "text": [
      "246.88\n"
     ]
    }
   ],
   "source": [
    "print(castile_mb['Pin[mm]'].sum())"
   ]
  },
  {
   "cell_type": "code",
   "execution_count": 3,
   "metadata": {},
   "outputs": [
    {
     "name": "stdout",
     "output_type": "stream",
     "text": [
      "P[mm]       4.644286\n",
      "Tavg[C]     6.112857\n",
      "Rhavg      77.157143\n",
      "dtype: float64\n",
      "P[mm]       4.644286\n",
      "Tavg[C]     6.112857\n",
      "Rhavg      77.157143\n",
      "dtype: float64\n",
      "   P[mm]  Tavg[C]  Rhavg\n",
      "0   8.13     7.78   78.9\n",
      "1   7.11     3.89   82.3\n",
      "2   3.05     2.78   86.3\n",
      "3   5.33     3.89   86.1\n",
      "4   8.89     5.28   73.3\n",
      "5   0.00     8.06   61.7\n",
      "6   0.00    11.11   71.5\n",
      "5.0\n"
     ]
    }
   ],
   "source": [
    "print(castile_raw.iloc[0:7, 1:].sum()/7)\n",
    "print(castile_raw.iloc[0:7, 1:].mean())\n",
    "print(castile_raw.iloc[0:7, 1:])\n",
    "\n",
    "test = castile_raw.iloc[0:7, 1:].mean()\n",
    "test2 = pd.concat([pd.Series(data =[5], index =['date']),test])\n",
    "dftest.loc[len(dftest)] = test2\n",
    "\n",
    "\n",
    "days = dftest.shape[0]\n",
    "wks = int((days - days % 7) / 7) #only looking at full weeks\n",
    "dfwk = pd.DataFrame(columns=dftest.columns)\n",
    "dfwk = dfwk.rename(columns={'date': 'week'})\n",
    "print(test2[0])\n"
   ]
  },
  {
   "cell_type": "code",
   "execution_count": 12,
   "metadata": {},
   "outputs": [],
   "source": [
    "Pin = castile_raw.iloc[0:7, 1].sum() #cumulative precipitation for wk [mm/wk]\n",
    "avgs = castile_raw.iloc[0:7, 2:].mean() #weekly averages for equation\n",
    "Eout = 100 * (0.135 * avgs[0] - 0.024 * Pin - 0.099 * avgs[1] + 7.14) #equation from paper for raw manure evaporation, converted to [mm/wk]\n",
    "net = (Pin - Eout) * 0.00328 * castile_area #net water volume into system [mm^3]\n",
    "pcost = net * 7.481 * 0.01\n",
    "\n",
    "row = pd.Series([1, Pin, Eout, net, pcost], index = ['week', 'Pin[mm]', 'Eout[mm]', 'Net Change[mm^3]', 'Pumping Cost [$]']) #row to add to dfmb"
   ]
  }
 ],
 "metadata": {
  "kernelspec": {
   "display_name": "base",
   "language": "python",
   "name": "python3"
  },
  "language_info": {
   "codemirror_mode": {
    "name": "ipython",
    "version": 3
   },
   "file_extension": ".py",
   "mimetype": "text/x-python",
   "name": "python",
   "nbconvert_exporter": "python",
   "pygments_lexer": "ipython3",
   "version": "3.9.13"
  }
 },
 "nbformat": 4,
 "nbformat_minor": 2
}
